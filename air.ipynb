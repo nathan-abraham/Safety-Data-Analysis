{
 "metadata": {
  "language_info": {
   "codemirror_mode": {
    "name": "ipython",
    "version": 3
   },
   "file_extension": ".py",
   "mimetype": "text/x-python",
   "name": "python",
   "nbconvert_exporter": "python",
   "pygments_lexer": "ipython3",
   "version": "3.9.1"
  },
  "orig_nbformat": 2,
  "kernelspec": {
   "name": "python3",
   "display_name": "Python 3.9.1 64-bit"
  },
  "metadata": {
   "interpreter": {
    "hash": "474940645c2d09f119ee2f9b6304c3a5348d860c689828d202690864a8d9ced1"
   }
  },
  "interpreter": {
   "hash": "474940645c2d09f119ee2f9b6304c3a5348d860c689828d202690864a8d9ced1"
  }
 },
 "nbformat": 4,
 "nbformat_minor": 2,
 "cells": [
  {
   "cell_type": "code",
   "execution_count": 22,
   "metadata": {},
   "outputs": [],
   "source": [
    "import pandas as pd # Reading csv files\n",
    "import seaborn as sns # Graphing\n",
    "import matplotlib.pyplot as plt # Graphing\n",
    "import numpy as np # Math"
   ]
  },
  {
   "cell_type": "code",
   "execution_count": 23,
   "metadata": {},
   "outputs": [
    {
     "output_type": "execute_result",
     "data": {
      "text/plain": [
       "         DATE        CITY  VALUE\n",
       "0  2019-01-01   Hyderabad  161.0\n",
       "1  2019-01-01      Bhopal  175.0\n",
       "2  2019-01-01  Chandigarh  163.0\n",
       "3  2019-01-01       Delhi  341.0\n",
       "4  2019-01-01   New Delhi  314.0"
      ],
      "text/html": "<div>\n<style scoped>\n    .dataframe tbody tr th:only-of-type {\n        vertical-align: middle;\n    }\n\n    .dataframe tbody tr th {\n        vertical-align: top;\n    }\n\n    .dataframe thead th {\n        text-align: right;\n    }\n</style>\n<table border=\"1\" class=\"dataframe\">\n  <thead>\n    <tr style=\"text-align: right;\">\n      <th></th>\n      <th>DATE</th>\n      <th>CITY</th>\n      <th>VALUE</th>\n    </tr>\n  </thead>\n  <tbody>\n    <tr>\n      <th>0</th>\n      <td>2019-01-01</td>\n      <td>Hyderabad</td>\n      <td>161.0</td>\n    </tr>\n    <tr>\n      <th>1</th>\n      <td>2019-01-01</td>\n      <td>Bhopal</td>\n      <td>175.0</td>\n    </tr>\n    <tr>\n      <th>2</th>\n      <td>2019-01-01</td>\n      <td>Chandigarh</td>\n      <td>163.0</td>\n    </tr>\n    <tr>\n      <th>3</th>\n      <td>2019-01-01</td>\n      <td>Delhi</td>\n      <td>341.0</td>\n    </tr>\n    <tr>\n      <th>4</th>\n      <td>2019-01-01</td>\n      <td>New Delhi</td>\n      <td>314.0</td>\n    </tr>\n  </tbody>\n</table>\n</div>"
     },
     "metadata": {},
     "execution_count": 23
    }
   ],
   "source": [
    "air_df = pd.read_csv(\"datasets/air_quality_index_india.csv\") # Read air data\n",
    "air_df = air_df.drop([\"COUNTRY\"], axis=1) # Drop \"Country\" column since all data is from India\n",
    "air_df.head() # Examine the first 5 entries of the dataframe"
   ]
  },
  {
   "cell_type": "code",
   "execution_count": 24,
   "metadata": {},
   "outputs": [
    {
     "output_type": "stream",
     "name": "stdout",
     "text": [
      "{'Hyderabad': 0, 'Bhopal': 1, 'Chandigarh': 2, 'Delhi': 3, 'New Delhi': 4, 'Nashik': 5, 'Chennai': 6, 'Thiruvananthapuram': 7, 'Bengaluru': 8, 'Jaipur': 9, 'Mumbai': 10, 'Muzaffarnagar': 11, 'Patna': 12, 'Kolkata': 13, 'Visakhapatnam': 14, 'Ghāziābād': 15, 'Lucknow': 16, 'Gandhinagar': 17, 'Hāpur': 18, 'Shillong': 19, 'Thrissur': 20, 'Mysore': 21, 'Nagpur': 22}\n"
     ]
    },
    {
     "output_type": "execute_result",
     "data": {
      "text/plain": [
       "         DATE  CITY  VALUE\n",
       "0  2019-01-01     0  161.0\n",
       "1  2019-01-01     1  175.0\n",
       "2  2019-01-01     2  163.0\n",
       "3  2019-01-01     3  341.0\n",
       "4  2019-01-01     4  314.0"
      ],
      "text/html": "<div>\n<style scoped>\n    .dataframe tbody tr th:only-of-type {\n        vertical-align: middle;\n    }\n\n    .dataframe tbody tr th {\n        vertical-align: top;\n    }\n\n    .dataframe thead th {\n        text-align: right;\n    }\n</style>\n<table border=\"1\" class=\"dataframe\">\n  <thead>\n    <tr style=\"text-align: right;\">\n      <th></th>\n      <th>DATE</th>\n      <th>CITY</th>\n      <th>VALUE</th>\n    </tr>\n  </thead>\n  <tbody>\n    <tr>\n      <th>0</th>\n      <td>2019-01-01</td>\n      <td>0</td>\n      <td>161.0</td>\n    </tr>\n    <tr>\n      <th>1</th>\n      <td>2019-01-01</td>\n      <td>1</td>\n      <td>175.0</td>\n    </tr>\n    <tr>\n      <th>2</th>\n      <td>2019-01-01</td>\n      <td>2</td>\n      <td>163.0</td>\n    </tr>\n    <tr>\n      <th>3</th>\n      <td>2019-01-01</td>\n      <td>3</td>\n      <td>341.0</td>\n    </tr>\n    <tr>\n      <th>4</th>\n      <td>2019-01-01</td>\n      <td>4</td>\n      <td>314.0</td>\n    </tr>\n  </tbody>\n</table>\n</div>"
     },
     "metadata": {},
     "execution_count": 24
    }
   ],
   "source": [
    "from scipy.stats import zscore\n",
    "\n",
    "# Convert cities to numbers\n",
    "cities = air_df[\"CITY\"].unique()\n",
    "cities_dict = {cities[i]:i for i in range(len(cities))} \n",
    "print(cities_dict)\n",
    "air_df[\"CITY\"] = air_df[\"CITY\"].replace(cities_dict)\n",
    "air_df.head()\n"
   ]
  },
  {
   "cell_type": "code",
   "execution_count": null,
   "metadata": {},
   "outputs": [],
   "source": []
  }
 ]
}