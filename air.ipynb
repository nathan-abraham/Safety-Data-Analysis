{
 "metadata": {
  "language_info": {
   "codemirror_mode": {
    "name": "ipython",
    "version": 3
   },
   "file_extension": ".py",
   "mimetype": "text/x-python",
   "name": "python",
   "nbconvert_exporter": "python",
   "pygments_lexer": "ipython3",
   "version": "3.9.1"
  },
  "orig_nbformat": 2,
  "kernelspec": {
   "name": "python3",
   "display_name": "Python 3.9.1 64-bit"
  },
  "metadata": {
   "interpreter": {
    "hash": "474940645c2d09f119ee2f9b6304c3a5348d860c689828d202690864a8d9ced1"
   }
  },
  "interpreter": {
   "hash": "474940645c2d09f119ee2f9b6304c3a5348d860c689828d202690864a8d9ced1"
  }
 },
 "nbformat": 4,
 "nbformat_minor": 2,
 "cells": [
  {
   "cell_type": "code",
   "execution_count": 1,
   "metadata": {},
   "outputs": [],
   "source": [
    "import pandas as pd # Reading csv files\n",
    "import seaborn as sns # Graphing\n",
    "import matplotlib.pyplot as plt # Graphing\n",
    "import numpy as np # Math\n",
    "import sklearn # Possible machine learning model"
   ]
  },
  {
   "cell_type": "code",
   "execution_count": 5,
   "metadata": {},
   "outputs": [
    {
     "output_type": "execute_result",
     "data": {
      "text/plain": [
       "         DATE COUNTRY        CITY  VALUE\n",
       "0  2019-01-01      IN   Hyderabad  161.0\n",
       "1  2019-01-01      IN      Bhopal  175.0\n",
       "2  2019-01-01      IN  Chandigarh  163.0\n",
       "3  2019-01-01      IN       Delhi  341.0\n",
       "4  2019-01-01      IN   New Delhi  314.0"
      ],
      "text/html": "<div>\n<style scoped>\n    .dataframe tbody tr th:only-of-type {\n        vertical-align: middle;\n    }\n\n    .dataframe tbody tr th {\n        vertical-align: top;\n    }\n\n    .dataframe thead th {\n        text-align: right;\n    }\n</style>\n<table border=\"1\" class=\"dataframe\">\n  <thead>\n    <tr style=\"text-align: right;\">\n      <th></th>\n      <th>DATE</th>\n      <th>COUNTRY</th>\n      <th>CITY</th>\n      <th>VALUE</th>\n    </tr>\n  </thead>\n  <tbody>\n    <tr>\n      <th>0</th>\n      <td>2019-01-01</td>\n      <td>IN</td>\n      <td>Hyderabad</td>\n      <td>161.0</td>\n    </tr>\n    <tr>\n      <th>1</th>\n      <td>2019-01-01</td>\n      <td>IN</td>\n      <td>Bhopal</td>\n      <td>175.0</td>\n    </tr>\n    <tr>\n      <th>2</th>\n      <td>2019-01-01</td>\n      <td>IN</td>\n      <td>Chandigarh</td>\n      <td>163.0</td>\n    </tr>\n    <tr>\n      <th>3</th>\n      <td>2019-01-01</td>\n      <td>IN</td>\n      <td>Delhi</td>\n      <td>341.0</td>\n    </tr>\n    <tr>\n      <th>4</th>\n      <td>2019-01-01</td>\n      <td>IN</td>\n      <td>New Delhi</td>\n      <td>314.0</td>\n    </tr>\n  </tbody>\n</table>\n</div>"
     },
     "metadata": {},
     "execution_count": 5
    }
   ],
   "source": [
    "air_df = pd.read_csv(\"datasets/air_quality_index_india.csv\") # Read air data\n",
    "air_df = air_df.drop([\"COUNTRY\"], axis=1) # Drop \"Country\" column since all data is from India\n",
    "air_df.head() # Examine the first 5 entries of the dataframe"
   ]
  },
  {
   "cell_type": "code",
   "execution_count": 17,
   "metadata": {},
   "outputs": [
    {
     "output_type": "execute_result",
     "data": {
      "text/plain": [
       "         DATE COUNTRY  CITY  VALUE\n",
       "0  2019-01-01      IN     0  161.0\n",
       "1  2019-01-01      IN     1  175.0\n",
       "2  2019-01-01      IN     2  163.0\n",
       "3  2019-01-01      IN     3  341.0\n",
       "4  2019-01-01      IN     4  314.0"
      ],
      "text/html": "<div>\n<style scoped>\n    .dataframe tbody tr th:only-of-type {\n        vertical-align: middle;\n    }\n\n    .dataframe tbody tr th {\n        vertical-align: top;\n    }\n\n    .dataframe thead th {\n        text-align: right;\n    }\n</style>\n<table border=\"1\" class=\"dataframe\">\n  <thead>\n    <tr style=\"text-align: right;\">\n      <th></th>\n      <th>DATE</th>\n      <th>COUNTRY</th>\n      <th>CITY</th>\n      <th>VALUE</th>\n    </tr>\n  </thead>\n  <tbody>\n    <tr>\n      <th>0</th>\n      <td>2019-01-01</td>\n      <td>IN</td>\n      <td>0</td>\n      <td>161.0</td>\n    </tr>\n    <tr>\n      <th>1</th>\n      <td>2019-01-01</td>\n      <td>IN</td>\n      <td>1</td>\n      <td>175.0</td>\n    </tr>\n    <tr>\n      <th>2</th>\n      <td>2019-01-01</td>\n      <td>IN</td>\n      <td>2</td>\n      <td>163.0</td>\n    </tr>\n    <tr>\n      <th>3</th>\n      <td>2019-01-01</td>\n      <td>IN</td>\n      <td>3</td>\n      <td>341.0</td>\n    </tr>\n    <tr>\n      <th>4</th>\n      <td>2019-01-01</td>\n      <td>IN</td>\n      <td>4</td>\n      <td>314.0</td>\n    </tr>\n  </tbody>\n</table>\n</div>"
     },
     "metadata": {},
     "execution_count": 17
    }
   ],
   "source": [
    "from scipy.stats import zscore\r\n",
    "\r\n",
    "# Convert cities to numbers\r\n",
    "cities = air_df[\"CITY\"].unique()\r\n",
    "cities_dict = {cities[i]:i for i in range(len(cities))} \r\n",
    "print(cities_dict)\r\n",
    "air_df[\"CITY\"] = air_df[\"CITY\"].replace(cities_dict)\r\n",
    "air_df.head()\r\n"
   ]
  },
  {
   "cell_type": "code",
   "execution_count": null,
   "metadata": {},
   "outputs": [],
   "source": []
  }
 ]
}